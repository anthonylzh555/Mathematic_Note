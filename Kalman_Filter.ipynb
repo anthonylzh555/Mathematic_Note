{
 "cells": [
  {
   "cell_type": "code",
   "execution_count": null,
   "metadata": {},
   "outputs": [],
   "source": []
  },
  {
   "cell_type": "markdown",
   "metadata": {},
   "source": [
    "## Kalman Filter\n",
    "<font size=\"3\">\n",
    "簡單理解 : 加入量測誤差後對下一個狀態位置的估計<br>\n",
    "簡化公式 : $$ \\hat X_k = K_k \\cdot Z_k + ( 1 - K_k ) \\cdot \\hat X_{k-1}$$\n",
    "          <font size=\"2\">\n",
    "          $$ \\hat X_k : (Current\\ Estimmation)\\ k狀態下，對X的估計 $$\n",
    "          $$ K_k : (Kalman\\ Gain)\\ 卡爾曼增益 $$\n",
    "          $$ Z_k : (Measured\\ Value)\\ 真實量測值(有誤差) $$\n",
    "          $$ \\hat X_{k-1} : (Last\\ Estimmation)\\ 上一個狀態的估計值 $$\n",
    "    "
   ]
  },
  {
   "cell_type": "markdown",
   "metadata": {},
   "source": [
    "***\n",
    "### Step 1.\n",
    "<font size=\"3\">\n",
    "假設系統動態模型 : \n",
    "$$ x_k = Ax_{k-1} + Bu_{k} + W_{k-1}$$\n",
    "$$ z_k = Hx_{k} + v_{k} $$ <br>\n",
    "    \n",
    "<font size=\"3\">\n",
    "$$ W_k\\ 為過程噪音，假設其符合均值為\\ 0\\ ，斜方差為\\ Q\\ 的常態分布$$\n",
    "$$ Prediction Noise : W_k \\sim N(0, Q_k) $$ \n",
    "\n",
    "$$ 同理\\ v_k\\ 為量測噪音$$\n",
    "$$ Measurement Noise : v_k \\sim N(0, R_k) $$ \n",
    "    \n",
    "<font size=\"3\">\n",
    "    \n",
    " - A , B 和 H 均為參數，A 為系統變換模型，B 為輸入一控制模型，H 為觀察值對真實質的修正\n",
    "    \n",
    " - 從系統動態模型可以得知矩陣 A , B 和 H 。他們很可能都是常數。\n",
    "\n",
    " - 第一個公式每個 x_k 可以通過一個線性隨機方程表示。任何一個 x_k 都是它 \"前一狀態的值 x_{k-1}\" 加上 \"控制訊號 u_k \"及 \"噪音 W_{k−1}\" 的線性组合。大多數情況下，並不需要控制訊號 u_k 。\n",
    "\n",
    " - 第二個公式告訴我們，任何量測值是當前狀態值及量測噪音的線性组合，假設噪音符合高斯分布。"
   ]
  },
  {
   "cell_type": "markdown",
   "metadata": {},
   "source": [
    "***\n",
    "### Step 2.\n",
    "\n",
    "\n",
    "<font size=\"3\"> \n",
    "    (1) 首先計算推測值，再計算推測值與真實值之間的誤差斜坊插矩陣 :\n",
    "    $$ \\hat x_k^- = A \\hat x_{k-1} + B u_{k } \\ \\dots \\ (1)$$ \n",
    "    $$ \\hat P_k^- = A P_{k-1} A^T + Q \\ \\dots \\ (2)$$\n",
    "    \n",
    "    (2)計算卡爾曼增益 K ，再計算估計值 : \n",
    "\n",
    "$$ K_k = P_k^- H^T ( H P_k^- H^T + R )^{-1} \\ \\dots \\ (3)$$\n",
    "$$ \\hat x_k = \\hat x_k^- +  K_k ( z_k - H \\hat x_k^- ) \\ \\dots \\ (4)$$\n",
    "    \n",
    "    (3)最後計算估計值與真實值之間的誤差斜方差矩陣，為下次迭代做準備 : \n",
    "    \n",
    "$$ P_k = ( I - K_k H) P_k^-  \\ \\dots \\ (5)$$\n",
    "    \n"
   ]
  },
  {
   "cell_type": "markdown",
   "metadata": {},
   "source": [
    "![avatar](https://www.researchgate.net/publication/221844061/figure/fig3/AS:667214948618245@1536087848134/The-operation-of-the-Kalman-filter.png)"
   ]
  },
  {
   "cell_type": "markdown",
   "metadata": {},
   "source": [
    "***\n",
    "### Example"
   ]
  },
  {
   "cell_type": "markdown",
   "metadata": {},
   "source": [
    "| time (second) | 1 | 2 | 3 | 4 | 5 | 6 | 7 | 8 | 9 | 10 |\n",
    "|---- | --- | --- | --- | --- | --- | --- | --- | --- | --- | ---- |\n",
    "| value | 0.39 | 0.50 | 0.48 | 0.29 | 0.25 | 0.32 | 0.34 | 0.48 | 0.41 | 0.45 |"
   ]
  },
  {
   "cell_type": "code",
   "execution_count": 24,
   "metadata": {},
   "outputs": [
    {
     "data": {
      "text/plain": [
       "[0.39, 0.5, 0.48, 0.29, 0.25, 0.32, 0.34, 0.48, 0.41, 0.45]"
      ]
     },
     "execution_count": 24,
     "metadata": {},
     "output_type": "execute_result"
    }
   ],
   "source": [
    "import pandas as pd\n",
    "data = [0.39, 0.50, 0.48, 0.29, 0.25, 0.32, 0.34, 0.48, 0.41, 0.45]\n",
    "data "
   ]
  },
  {
   "cell_type": "code",
   "execution_count": 25,
   "metadata": {},
   "outputs": [
    {
     "data": {
      "text/plain": [
       "0.5"
      ]
     },
     "execution_count": 25,
     "metadata": {},
     "output_type": "execute_result"
    }
   ],
   "source": [
    "data[]"
   ]
  },
  {
   "cell_type": "code",
   "execution_count": null,
   "metadata": {},
   "outputs": [],
   "source": []
  },
  {
   "cell_type": "code",
   "execution_count": null,
   "metadata": {},
   "outputs": [],
   "source": []
  }
 ],
 "metadata": {
  "kernelspec": {
   "display_name": "Python 3",
   "language": "python",
   "name": "python3"
  },
  "language_info": {
   "codemirror_mode": {
    "name": "ipython",
    "version": 3
   },
   "file_extension": ".py",
   "mimetype": "text/x-python",
   "name": "python",
   "nbconvert_exporter": "python",
   "pygments_lexer": "ipython3",
   "version": "3.6.4"
  }
 },
 "nbformat": 4,
 "nbformat_minor": 4
}
